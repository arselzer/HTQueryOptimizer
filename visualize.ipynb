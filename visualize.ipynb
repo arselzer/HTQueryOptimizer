{
 "cells": [
  {
   "cell_type": "code",
   "execution_count": 10,
   "metadata": {},
   "outputs": [],
   "source": [
    "from glob import glob\n",
    "import matplotlib.pyplot as plt\n",
    "import pandas as pd"
   ]
  },
  {
   "cell_type": "code",
   "execution_count": 13,
   "metadata": {},
   "outputs": [],
   "source": [
    "def visualize_summary(summary_file):\n",
    "    df = pd.read_csv(summary_file)\n",
    "    print(df)\n",
    "\n",
    "def visualize(path):\n",
    "    dbs = glob(path + \"/*\")\n",
    "    summary_file = path + \"/summary.csv\"\n",
    "    dbs.remove(summary_file)\n",
    "    print(\"dbs: \" + str(dbs))\n",
    "    visualize_summary(summary_file)    "
   ]
  },
  {
   "cell_type": "code",
   "execution_count": 14,
   "metadata": {},
   "outputs": [
    {
     "name": "stdout",
     "output_type": "stream",
     "text": [
      "dbs: ['benchmark-results-2021-02-05-22:51:05/fat_and_cycles', 'benchmark-results-2021-02-05-22:51:05/db3', 'benchmark-results-2021-02-05-22:51:05/db6', 'benchmark-results-2021-02-05-22:51:05/db2', 'benchmark-results-2021-02-05-22:51:05/db5', 'benchmark-results-2021-02-05-22:51:05/db7', 'benchmark-results-2021-02-05-22:51:05/tpc-h-2', 'benchmark-results-2021-02-05-22:51:05/db1', 'benchmark-results-2021-02-05-22:51:05/db1-large', 'benchmark-results-2021-02-05-22:51:05/db4', 'benchmark-results-2021-02-05-22:51:05/tpc-h']\n",
      "                 db              query   algorithm  size  run  origRuntime  \\\n",
      "0    fat_and_cycles  query-no-star.sql  BALANCEDGO    40    1          659   \n",
      "1               db3           tree.sql  BALANCEDGO     1    1           46   \n",
      "2               db3           tree.sql  BALANCEDGO     2    1           48   \n",
      "3               db3           tree.sql  BALANCEDGO     3    1           49   \n",
      "4               db3         tree-4.sql  BALANCEDGO     1    1           59   \n",
      "..              ...                ...         ...   ...  ...          ...   \n",
      "99              db4        query-4.sql  BALANCEDGO     1    1            1   \n",
      "100           tpc-h     3-modified.sql  BALANCEDGO     1    1            5   \n",
      "101           tpc-h     5-modified.sql  BALANCEDGO     1    1           48   \n",
      "102           tpc-h          extra.sql  BALANCEDGO     1    1         1331   \n",
      "103           tpc-h    10-modified.sql  BALANCEDGO     1    1            8   \n",
      "\n",
      "     optQueryRuntime  optTotalRuntime  origRows  optRows  ...  \\\n",
      "0               2293             2599         1        1  ...   \n",
      "1                 67              256         1        1  ...   \n",
      "2                 51              216         1        1  ...   \n",
      "3                 51              199         1        1  ...   \n",
      "4                 46              195         1        1  ...   \n",
      "..               ...              ...       ...      ...  ...   \n",
      "99               189              239         1        1  ...   \n",
      "100              223              325         1        1  ...   \n",
      "101             3645             3799         1        1  ...   \n",
      "102            31280            31523         1        1  ...   \n",
      "103              239              339         1        1  ...   \n",
      "\n",
      "     vertexBagSizeMin  vertexBagSizeMax  vertexBagSizeMean  vertexBagSizeSum  \\\n",
      "0                 3.0               5.0           4.000000              16.0   \n",
      "1                 1.0               2.0           1.500000              30.0   \n",
      "2                 1.0               2.0           1.500000              30.0   \n",
      "3                 1.0               2.0           1.500000              30.0   \n",
      "4                 1.0               2.0           1.050000              21.0   \n",
      "..                ...               ...                ...               ...   \n",
      "99                2.0               7.0           4.500000               9.0   \n",
      "100               1.0               4.0           2.666667               8.0   \n",
      "101               3.0               8.0           6.000000              24.0   \n",
      "102               0.0               7.0           2.833333              17.0   \n",
      "103               1.0               7.0           3.000000              12.0   \n",
      "\n",
      "     vertexBagSizeSdev  edgeBagSizeMin  edgeBagSizeMax  edgeBagSizeMean  \\\n",
      "0             1.154701             2.0             2.0             2.00   \n",
      "1             0.512989             1.0             1.0             1.00   \n",
      "2             0.512989             1.0             1.0             1.00   \n",
      "3             0.512989             1.0             1.0             1.00   \n",
      "4             0.223607             1.0             1.0             1.00   \n",
      "..                 ...             ...             ...              ...   \n",
      "99            3.535534             2.0             2.0             2.00   \n",
      "100           1.527525             1.0             1.0             1.00   \n",
      "101           2.449490             1.0             2.0             1.75   \n",
      "102           2.401388             1.0             2.0             1.50   \n",
      "103           2.708013             1.0             1.0             1.00   \n",
      "\n",
      "     edgeBagSizeSum  edgeBagSizeSdev  \n",
      "0               8.0         0.000000  \n",
      "1              20.0         0.000000  \n",
      "2              20.0         0.000000  \n",
      "3              20.0         0.000000  \n",
      "4              20.0         0.000000  \n",
      "..              ...              ...  \n",
      "99              4.0         0.000000  \n",
      "100             3.0         0.000000  \n",
      "101             7.0         0.500000  \n",
      "102             9.0         0.547723  \n",
      "103             4.0         0.000000  \n",
      "\n",
      "[104 rows x 35 columns]\n"
     ]
    }
   ],
   "source": [
    "visualize(\"benchmark-results-2021-02-05-22:51:05\")"
   ]
  },
  {
   "cell_type": "code",
   "execution_count": null,
   "metadata": {},
   "outputs": [],
   "source": []
  }
 ],
 "metadata": {
  "kernelspec": {
   "display_name": "Python 3",
   "language": "python",
   "name": "python3"
  },
  "language_info": {
   "codemirror_mode": {
    "name": "ipython",
    "version": 3
   },
   "file_extension": ".py",
   "mimetype": "text/x-python",
   "name": "python",
   "nbconvert_exporter": "python",
   "pygments_lexer": "ipython3",
   "version": "3.8.6"
  }
 },
 "nbformat": 4,
 "nbformat_minor": 4
}
